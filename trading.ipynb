{
  "nbformat": 4,
  "nbformat_minor": 0,
  "metadata": {
    "colab": {
      "name": "trading.ipynb",
      "provenance": [],
      "collapsed_sections": [],
      "include_colab_link": true
    },
    "kernelspec": {
      "name": "python3",
      "display_name": "Python 3"
    }
  },
  "cells": [
    {
      "cell_type": "markdown",
      "metadata": {
        "id": "view-in-github",
        "colab_type": "text"
      },
      "source": [
        "<a href=\"https://colab.research.google.com/github/samleehk/Spark_PySpark_Machine_Learning/blob/master/trading.ipynb\" target=\"_parent\"><img src=\"https://colab.research.google.com/assets/colab-badge.svg\" alt=\"Open In Colab\"/></a>"
      ]
    },
    {
      "cell_type": "code",
      "metadata": {
        "id": "MH0ndE6uFIVU",
        "colab_type": "code",
        "colab": {}
      },
      "source": [
        "from google.colab import drive\n",
        "drive.mount('/mnt/google_drive')"
      ],
      "execution_count": 0,
      "outputs": []
    },
    {
      "cell_type": "code",
      "metadata": {
        "id": "TRHO7_ojGLeR",
        "colab_type": "code",
        "colab": {}
      },
      "source": [
        "import pandas as pd\n",
        "\n",
        "df = pd.read_excel('/mnt/google_drive/My Drive/colab/HSIF_data_minute.xls', header=1)"
      ],
      "execution_count": 0,
      "outputs": []
    },
    {
      "cell_type": "code",
      "metadata": {
        "id": "qYAKRpFRIGJ-",
        "colab_type": "code",
        "colab": {}
      },
      "source": [
        "remove_trailing_duplicates =lambda column_name : column_name.replace('.1','')\n",
        "cleansed_df = df.drop(df.columns[7],axis=1)\n",
        "cleansed_df_2 = cleansed_df[cleansed_df.columns[7:14]]\n",
        "cleansed_df_2.rename(remove_trailing_duplicates, axis='columns', inplace=True)\n",
        "print(cleansed_df_2)\n",
        "\n",
        "new_df = cleansed_df[cleansed_df.columns[0:7]].append(cleansed_df_2)\n",
        "sheet1_df = new_df[new_df['Date'].notnull()]"
      ],
      "execution_count": 0,
      "outputs": []
    },
    {
      "cell_type": "code",
      "metadata": {
        "id": "BPwvGamqNN3D",
        "colab_type": "code",
        "colab": {}
      },
      "source": [
        "from datetime import datetime\n",
        "# sort by date\n",
        "sheet1_df['datetime'] = pd.to_datetime(sheet1_df['Date'].dt.strftime('%Y-%m-%d') + sheet1_df['Time'].astype(str), format = '%Y-%m-%d%H:%M:%S')\n",
        "sheet1_df.sort_values(by='datetime', inplace=True)\n",
        "\n",
        "print('Cleansed sheet 1 data')\n",
        "print(sheet1_df)"
      ],
      "execution_count": 0,
      "outputs": []
    },
    {
      "cell_type": "code",
      "metadata": {
        "id": "y8xFksBLS8A8",
        "colab_type": "code",
        "colab": {}
      },
      "source": [
        "import plotly.graph_objects as go\n",
        "\n",
        "## Plot the graph\n",
        "\n",
        "fig = go.Figure(data=go.Ohlc(x=sheet1_df['datetime'],\n",
        "                    open=sheet1_df['Open'],\n",
        "                    high=sheet1_df['High'],\n",
        "                    low=sheet1_df['Low'],\n",
        "                    close=sheet1_df['Close']))\n",
        "\n",
        "# Add title and annotations\n",
        "fig.update_layout(title_text='HASE Index From Dec 30, 2011 to Dec 28, 2012',\n",
        "                  title={\n",
        "                    'y':0.9,\n",
        "                    'x':0.5,\n",
        "                    'xanchor': 'center',\n",
        "                    'yanchor': 'top'},\n",
        "                  xaxis_rangeslider_visible=True, xaxis_title=\"datetime\", yaxis_title=\"Index\")\n",
        "\n",
        "\n",
        "fig.show()"
      ],
      "execution_count": 0,
      "outputs": []
    }
  ]
}